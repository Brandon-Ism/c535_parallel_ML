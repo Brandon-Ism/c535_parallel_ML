{
 "cells": [
  {
   "cell_type": "markdown",
   "metadata": {},
   "source": [
    "## Parallel Logistic Regression Model for Spam Detection of Amazon \"Sports and Outdoors\" Product Reviews"
   ]
  },
  {
   "cell_type": "code",
   "execution_count": 1,
   "metadata": {},
   "outputs": [],
   "source": [
    "import pandas as pd\n",
    "import numpy as np\n",
    "from sklearn.model_selection import train_test_split\n",
    "from sklearn.feature_extraction.text import TfidfVectorizer\n",
    "from sklearn.linear_model import LogisticRegression\n",
    "from sklearn.preprocessing import StandardScaler\n",
    "from sklearn.metrics import accuracy_score\n",
    "from scipy.sparse import hstack\n",
    "import multiprocessing as mp\n",
    "import time\n"
   ]
  },
  {
   "cell_type": "code",
   "execution_count": 2,
   "metadata": {},
   "outputs": [],
   "source": [
    "import warnings\n",
    "\n",
    "# Suppress all FutureWarnings\n",
    "warnings.filterwarnings(\"ignore\", category=FutureWarning)"
   ]
  },
  {
   "cell_type": "code",
   "execution_count": 3,
   "metadata": {},
   "outputs": [
    {
     "data": {
      "text/html": [
       "<div>\n",
       "<style scoped>\n",
       "    .dataframe tbody tr th:only-of-type {\n",
       "        vertical-align: middle;\n",
       "    }\n",
       "\n",
       "    .dataframe tbody tr th {\n",
       "        vertical-align: top;\n",
       "    }\n",
       "\n",
       "    .dataframe thead th {\n",
       "        text-align: right;\n",
       "    }\n",
       "</style>\n",
       "<table border=\"1\" class=\"dataframe\">\n",
       "  <thead>\n",
       "    <tr style=\"text-align: right;\">\n",
       "      <th></th>\n",
       "      <th>_id</th>\n",
       "      <th>reviewerID</th>\n",
       "      <th>asin</th>\n",
       "      <th>reviewerName</th>\n",
       "      <th>helpful</th>\n",
       "      <th>reviewText</th>\n",
       "      <th>overall</th>\n",
       "      <th>summary</th>\n",
       "      <th>unixReviewTime</th>\n",
       "      <th>reviewTime</th>\n",
       "      <th>category</th>\n",
       "      <th>class</th>\n",
       "    </tr>\n",
       "  </thead>\n",
       "  <tbody>\n",
       "    <tr>\n",
       "      <th>0</th>\n",
       "      <td>{'$oid': '5a132768741a2384e847b8ed'}</td>\n",
       "      <td>A2PAVURT4NOHE1</td>\n",
       "      <td>0000031852</td>\n",
       "      <td>Leah</td>\n",
       "      <td>[0, 0]</td>\n",
       "      <td>Bought it for a ballet tutu but it is being wo...</td>\n",
       "      <td>5</td>\n",
       "      <td>Super cute</td>\n",
       "      <td>1388361600</td>\n",
       "      <td>12 30, 2013</td>\n",
       "      <td>Sports_and_Outdoors</td>\n",
       "      <td>1</td>\n",
       "    </tr>\n",
       "    <tr>\n",
       "      <th>1</th>\n",
       "      <td>{'$oid': '5a132768741a2384e847b8e9'}</td>\n",
       "      <td>A1SNLWGLFXD70K</td>\n",
       "      <td>0000031852</td>\n",
       "      <td>DEVA</td>\n",
       "      <td>[0, 0]</td>\n",
       "      <td>I origonally didn't get the item I ordered.  W...</td>\n",
       "      <td>4</td>\n",
       "      <td>Happy with purchase even though it came a lot ...</td>\n",
       "      <td>1392940800</td>\n",
       "      <td>02 21, 2014</td>\n",
       "      <td>Sports_and_Outdoors</td>\n",
       "      <td>1</td>\n",
       "    </tr>\n",
       "    <tr>\n",
       "      <th>2</th>\n",
       "      <td>{'$oid': '5a132768741a2384e847b8ee'}</td>\n",
       "      <td>A3URQ0LXLV46E9</td>\n",
       "      <td>0000031852</td>\n",
       "      <td>shortyvee</td>\n",
       "      <td>[0, 0]</td>\n",
       "      <td>My daughter and her friends love the colors an...</td>\n",
       "      <td>4</td>\n",
       "      <td>zebralisous</td>\n",
       "      <td>1400544000</td>\n",
       "      <td>05 20, 2014</td>\n",
       "      <td>Sports_and_Outdoors</td>\n",
       "      <td>1</td>\n",
       "    </tr>\n",
       "    <tr>\n",
       "      <th>3</th>\n",
       "      <td>{'$oid': '5a132768741a2384e847b8ea'}</td>\n",
       "      <td>A1KJ4CVG87QW09</td>\n",
       "      <td>0000031852</td>\n",
       "      <td>Donna Carter-Scott</td>\n",
       "      <td>[0, 0]</td>\n",
       "      <td>Arrived very timely, cute grandbaby loves it. ...</td>\n",
       "      <td>4</td>\n",
       "      <td>Cute Tutu</td>\n",
       "      <td>1389657600</td>\n",
       "      <td>01 14, 2014</td>\n",
       "      <td>Sports_and_Outdoors</td>\n",
       "      <td>1</td>\n",
       "    </tr>\n",
       "    <tr>\n",
       "      <th>4</th>\n",
       "      <td>{'$oid': '5a132768741a2384e847b8eb'}</td>\n",
       "      <td>AA9ITO6ZLZW6</td>\n",
       "      <td>0000031852</td>\n",
       "      <td>Jazzy77</td>\n",
       "      <td>[0, 0]</td>\n",
       "      <td>My little girl just loves to wear this tutu be...</td>\n",
       "      <td>5</td>\n",
       "      <td>Versatile</td>\n",
       "      <td>1399507200</td>\n",
       "      <td>05 8, 2014</td>\n",
       "      <td>Sports_and_Outdoors</td>\n",
       "      <td>1</td>\n",
       "    </tr>\n",
       "  </tbody>\n",
       "</table>\n",
       "</div>"
      ],
      "text/plain": [
       "                                    _id      reviewerID        asin  \\\n",
       "0  {'$oid': '5a132768741a2384e847b8ed'}  A2PAVURT4NOHE1  0000031852   \n",
       "1  {'$oid': '5a132768741a2384e847b8e9'}  A1SNLWGLFXD70K  0000031852   \n",
       "2  {'$oid': '5a132768741a2384e847b8ee'}  A3URQ0LXLV46E9  0000031852   \n",
       "3  {'$oid': '5a132768741a2384e847b8ea'}  A1KJ4CVG87QW09  0000031852   \n",
       "4  {'$oid': '5a132768741a2384e847b8eb'}    AA9ITO6ZLZW6  0000031852   \n",
       "\n",
       "         reviewerName helpful  \\\n",
       "0                Leah  [0, 0]   \n",
       "1                DEVA  [0, 0]   \n",
       "2           shortyvee  [0, 0]   \n",
       "3  Donna Carter-Scott  [0, 0]   \n",
       "4             Jazzy77  [0, 0]   \n",
       "\n",
       "                                          reviewText  overall  \\\n",
       "0  Bought it for a ballet tutu but it is being wo...        5   \n",
       "1  I origonally didn't get the item I ordered.  W...        4   \n",
       "2  My daughter and her friends love the colors an...        4   \n",
       "3  Arrived very timely, cute grandbaby loves it. ...        4   \n",
       "4  My little girl just loves to wear this tutu be...        5   \n",
       "\n",
       "                                             summary  unixReviewTime  \\\n",
       "0                                         Super cute      1388361600   \n",
       "1  Happy with purchase even though it came a lot ...      1392940800   \n",
       "2                                        zebralisous      1400544000   \n",
       "3                                          Cute Tutu      1389657600   \n",
       "4                                          Versatile      1399507200   \n",
       "\n",
       "    reviewTime             category  class  \n",
       "0  12 30, 2013  Sports_and_Outdoors      1  \n",
       "1  02 21, 2014  Sports_and_Outdoors      1  \n",
       "2  05 20, 2014  Sports_and_Outdoors      1  \n",
       "3  01 14, 2014  Sports_and_Outdoors      1  \n",
       "4   05 8, 2014  Sports_and_Outdoors      1  "
      ]
     },
     "execution_count": 3,
     "metadata": {},
     "output_type": "execute_result"
    }
   ],
   "source": [
    "# Load dataset\n",
    "data = pd.read_json('~/Documents/Sports_and_Outdoors/Sports_and_Outdoors.json', lines=True)\n",
    "data.head()"
   ]
  },
  {
   "cell_type": "markdown",
   "metadata": {},
   "source": [
    "Here, the input features will be: `reviewText`, `overall`, `summary`, and `helpful`\n",
    "The predictor will be `class`, which indicates whether the review is spam (1), or not spam (0)\n",
    "\n",
    "The first element of the `helpful` feature is extracted, indicating the number of users that found that review helpful."
   ]
  },
  {
   "cell_type": "code",
   "execution_count": 4,
   "metadata": {},
   "outputs": [
    {
     "data": {
      "text/html": [
       "<div>\n",
       "<style scoped>\n",
       "    .dataframe tbody tr th:only-of-type {\n",
       "        vertical-align: middle;\n",
       "    }\n",
       "\n",
       "    .dataframe tbody tr th {\n",
       "        vertical-align: top;\n",
       "    }\n",
       "\n",
       "    .dataframe thead th {\n",
       "        text-align: right;\n",
       "    }\n",
       "</style>\n",
       "<table border=\"1\" class=\"dataframe\">\n",
       "  <thead>\n",
       "    <tr style=\"text-align: right;\">\n",
       "      <th></th>\n",
       "      <th>reviewText</th>\n",
       "      <th>overall</th>\n",
       "      <th>summary</th>\n",
       "      <th>helpful</th>\n",
       "      <th>class</th>\n",
       "    </tr>\n",
       "  </thead>\n",
       "  <tbody>\n",
       "    <tr>\n",
       "      <th>0</th>\n",
       "      <td>Bought it for a ballet tutu but it is being wo...</td>\n",
       "      <td>5</td>\n",
       "      <td>Super cute</td>\n",
       "      <td>0</td>\n",
       "      <td>1</td>\n",
       "    </tr>\n",
       "    <tr>\n",
       "      <th>1</th>\n",
       "      <td>I origonally didn't get the item I ordered.  W...</td>\n",
       "      <td>4</td>\n",
       "      <td>Happy with purchase even though it came a lot ...</td>\n",
       "      <td>0</td>\n",
       "      <td>1</td>\n",
       "    </tr>\n",
       "    <tr>\n",
       "      <th>2</th>\n",
       "      <td>My daughter and her friends love the colors an...</td>\n",
       "      <td>4</td>\n",
       "      <td>zebralisous</td>\n",
       "      <td>0</td>\n",
       "      <td>1</td>\n",
       "    </tr>\n",
       "    <tr>\n",
       "      <th>3</th>\n",
       "      <td>Arrived very timely, cute grandbaby loves it. ...</td>\n",
       "      <td>4</td>\n",
       "      <td>Cute Tutu</td>\n",
       "      <td>0</td>\n",
       "      <td>1</td>\n",
       "    </tr>\n",
       "    <tr>\n",
       "      <th>4</th>\n",
       "      <td>My little girl just loves to wear this tutu be...</td>\n",
       "      <td>5</td>\n",
       "      <td>Versatile</td>\n",
       "      <td>0</td>\n",
       "      <td>1</td>\n",
       "    </tr>\n",
       "  </tbody>\n",
       "</table>\n",
       "</div>"
      ],
      "text/plain": [
       "                                          reviewText  overall  \\\n",
       "0  Bought it for a ballet tutu but it is being wo...        5   \n",
       "1  I origonally didn't get the item I ordered.  W...        4   \n",
       "2  My daughter and her friends love the colors an...        4   \n",
       "3  Arrived very timely, cute grandbaby loves it. ...        4   \n",
       "4  My little girl just loves to wear this tutu be...        5   \n",
       "\n",
       "                                             summary  helpful  class  \n",
       "0                                         Super cute        0      1  \n",
       "1  Happy with purchase even though it came a lot ...        0      1  \n",
       "2                                        zebralisous        0      1  \n",
       "3                                          Cute Tutu        0      1  \n",
       "4                                          Versatile        0      1  "
      ]
     },
     "execution_count": 4,
     "metadata": {},
     "output_type": "execute_result"
    }
   ],
   "source": [
    "# Extract the relevant columns\n",
    "data = data[['reviewText', 'overall', 'summary', 'helpful', 'class']]\n",
    "\n",
    "# Clean the 'helpful' column: extract the first element of the list - num of helpful votes\n",
    "data['helpful'] = data['helpful'].apply(lambda x: x[0] if isinstance(x, list) and len(x) > 0 else 0)\n",
    "\n",
    "# Check cleaned data\n",
    "data.head()"
   ]
  },
  {
   "cell_type": "code",
   "execution_count": 5,
   "metadata": {},
   "outputs": [],
   "source": [
    "# Split dataset into training and testing\n",
    "X_train, X_test, y_train, y_test = train_test_split(data[['reviewText', 'overall', 'summary', 'helpful']], \n",
    "                                                    data['class'], test_size=0.2, random_state=42, shuffle=True)"
   ]
  },
  {
   "cell_type": "markdown",
   "metadata": {},
   "source": [
    "We must convert text features (`reviewText` & `summary`) into numerical vectors suitable for ML training."
   ]
  },
  {
   "cell_type": "code",
   "execution_count": 6,
   "metadata": {},
   "outputs": [
    {
     "name": "stdout",
     "output_type": "stream",
     "text": [
      "Sequential preprocessing completed in: 106.79 seconds\n"
     ]
    }
   ],
   "source": [
    "start_time = time.time()\n",
    "\n",
    "# Initialize the TF-IDF Vectorizer for 'reviewText' and 'summary'\n",
    "# Fit and transform the 'reviewText' and 'summary'\n",
    "\n",
    "vectorizer_review = TfidfVectorizer(max_features=5000)\n",
    "X_train_review_tfidf = vectorizer_review.fit_transform(X_train['reviewText'])\n",
    "X_test_review_tfidf = vectorizer_review.transform(X_test['reviewText'])\n",
    "\n",
    "\n",
    "vectorizer_summary = TfidfVectorizer(max_features=1000)\n",
    "X_train_summary_tfidf = vectorizer_summary.fit_transform(X_train['summary'])\n",
    "X_test_summary_tfidf = vectorizer_summary.transform(X_test['summary'])\n",
    "\n",
    "\n",
    "# Standardize the numerical features ('overall' and 'helpful')\n",
    "scaler = StandardScaler()\n",
    "X_train_overall_helpful = scaler.fit_transform(X_train[['overall', 'helpful']])\n",
    "X_test_overall_helpful = scaler.transform(X_test[['overall', 'helpful']])\n",
    "\n",
    "# Stop timer\n",
    "end_time = time.time()\n",
    "print(f\"Sequential preprocessing completed in: {end_time - start_time:.2f} seconds\")\n",
    "\n"
   ]
  },
  {
   "cell_type": "code",
   "execution_count": 7,
   "metadata": {},
   "outputs": [
    {
     "name": "stdout",
     "output_type": "stream",
     "text": [
      "Shape of X_train_review_tfidf: (2410604, 5000)\n",
      "Shape of X_train_summary_tfidf: (2410604, 1000)\n",
      "Shape of X_train_overall_helpful: (2410604, 2)\n",
      "Shape of X_train_combined: (2410604, 6002)\n",
      "Shape of y_train: (2410604,)\n"
     ]
    }
   ],
   "source": [
    "\n",
    "# Check the shapes of each feature set to ensure consistency\n",
    "print(f\"Shape of X_train_review_tfidf: {X_train_review_tfidf.shape}\")\n",
    "print(f\"Shape of X_train_summary_tfidf: {X_train_summary_tfidf.shape}\")\n",
    "print(f\"Shape of X_train_overall_helpful: {X_train_overall_helpful.shape}\")\n",
    "\n",
    "# Combine all features into one training and testing set\n",
    "X_train_combined = hstack([X_train_review_tfidf, X_train_summary_tfidf, X_train_overall_helpful])\n",
    "X_test_combined = hstack([X_test_review_tfidf, X_test_summary_tfidf, X_test_overall_helpful])\n",
    "\n",
    "# Check the final shapes\n",
    "print(f\"Shape of X_train_combined: {X_train_combined.shape}\")\n",
    "print(f\"Shape of y_train: {y_train.shape}\")"
   ]
  },
  {
   "cell_type": "code",
   "execution_count": 8,
   "metadata": {},
   "outputs": [],
   "source": [
    "# Convert the combined matrix to CSR format for slicing\n",
    "X_train_combined = X_train_combined.tocsr()"
   ]
  },
  {
   "cell_type": "markdown",
   "metadata": {},
   "source": [
    "Here, we wil define and split the data into `num_chunks` chunks, where `num_chunks` can be equal to the number of CPU cores or be manually chosen."
   ]
  },
  {
   "cell_type": "code",
   "execution_count": 9,
   "metadata": {},
   "outputs": [
    {
     "name": "stdout",
     "output_type": "stream",
     "text": [
      "Number of chunks utilized: 16\n"
     ]
    }
   ],
   "source": [
    "# Define number of data chunks\n",
    "num_chunks = mp.cpu_count()\n",
    "print(f\"Number of chunks utilized: {num_chunks}\")\n",
    "\n",
    "# Calculate chunk size\n",
    "chunk_size = X_train_combined.shape[0] // num_chunks\n",
    "\n",
    "# Ensure the last chunk includes all remaining rows if the split is not even\n",
    "X_train_chunks = [X_train_combined[i*chunk_size:(i+1)*chunk_size] for i in range(num_chunks-1)]\n",
    "y_train_chunks = [y_train[i*chunk_size:(i+1)*chunk_size] for i in range(num_chunks-1)]\n",
    "\n",
    "# Add remaining rows in the last chunk\n",
    "X_train_chunks.append(X_train_combined[(num_chunks-1)*chunk_size:])\n",
    "y_train_chunks.append(y_train[(num_chunks-1)*chunk_size:])"
   ]
  },
  {
   "cell_type": "markdown",
   "metadata": {},
   "source": [
    "The defined function below will train the Logistic Regression model on each 'chunk' of the data in parallel."
   ]
  },
  {
   "cell_type": "code",
   "execution_count": 10,
   "metadata": {},
   "outputs": [],
   "source": [
    "# Define a function to train Logistic Regression on a chunk of data\n",
    "def train_on_chunk(X_chunk, y_chunk):\n",
    "    # Ensure data is writable\n",
    "    X_chunk = X_chunk.copy()\n",
    "    y_chunk = y_chunk.copy()\n",
    "\n",
    "    model = LogisticRegression(max_iter=1000, solver='lbfgs')\n",
    "    model.fit(X_chunk, y_chunk)\n",
    "    return model"
   ]
  },
  {
   "cell_type": "markdown",
   "metadata": {},
   "source": [
    "Below, we train the the model in parallel, and time the training time. "
   ]
  },
  {
   "cell_type": "code",
   "execution_count": 11,
   "metadata": {},
   "outputs": [],
   "source": [
    "start_time = time.time()\n",
    "\n",
    "\n",
    "# Create a multiprocessing pool\n",
    "with mp.Pool(processes=num_chunks) as pool:\n",
    "    # Train models in parallel on each chunk of data\n",
    "    models = pool.starmap(train_on_chunk, zip(X_train_chunks, y_train_chunks))\n",
    "\n",
    "end_time = time.time()"
   ]
  },
  {
   "cell_type": "code",
   "execution_count": 12,
   "metadata": {},
   "outputs": [
    {
     "name": "stdout",
     "output_type": "stream",
     "text": [
      "Parallel Training Time: 8.19 seconds\n"
     ]
    },
    {
     "ename": "",
     "evalue": "",
     "output_type": "error",
     "traceback": [
      "\u001b[1;31mThe Kernel crashed while executing code in the current cell or a previous cell. \n",
      "\u001b[1;31mPlease review the code in the cell(s) to identify a possible cause of the failure. \n",
      "\u001b[1;31mClick <a href='https://aka.ms/vscodeJupyterKernelCrash'>here</a> for more info. \n",
      "\u001b[1;31mView Jupyter <a href='command:jupyter.viewOutput'>log</a> for further details."
     ]
    }
   ],
   "source": [
    "# Calculate the parallel training time\n",
    "parallel_training_time = end_time - start_time\n",
    "print(f\"Parallel Training Time: {parallel_training_time:.2f} seconds\")"
   ]
  },
  {
   "cell_type": "code",
   "execution_count": null,
   "metadata": {},
   "outputs": [],
   "source": []
  }
 ],
 "metadata": {
  "kernelspec": {
   "display_name": "base",
   "language": "python",
   "name": "python3"
  },
  "language_info": {
   "codemirror_mode": {
    "name": "ipython",
    "version": 3
   },
   "file_extension": ".py",
   "mimetype": "text/x-python",
   "name": "python",
   "nbconvert_exporter": "python",
   "pygments_lexer": "ipython3",
   "version": "3.12.4"
  }
 },
 "nbformat": 4,
 "nbformat_minor": 2
}
