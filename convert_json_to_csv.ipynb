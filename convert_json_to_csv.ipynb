{
 "cells": [
  {
   "cell_type": "code",
   "execution_count": null,
   "metadata": {
    "id": "Le46Cx7zYku0"
   },
   "outputs": [],
   "source": [
    "import os\n",
    "import pandas as pd\n",
    "\n",
    "# Verify the file path\n",
    "file_path = r\"Toys_and_Games.json\"\n",
    "if not os.path.exists(file_path):\n",
    "    raise FileNotFoundError(f\"The file at {file_path} does not exist.\")\n",
    "\n",
    "# Read the file in chunks\n",
    "chunk_size = 10000  # Adjust the chunk size based on your memory constraints\n",
    "chunks = pd.read_json(file_path, lines=True, chunksize=chunk_size)\n",
    "\n",
    "# List to store processed chunks\n",
    "processed_chunks = []\n",
    "\n",
    "# Process each chunk\n",
    "for chunk in chunks:\n",
    "    # Drop all columns except for 'reviewText' and 'class'\n",
    "    chunk = chunk[['reviewText', 'class']]\n",
    "\n",
    "    # Perform necessary operations on each chunk\n",
    "    print(chunk.head())   # Check the first few rows of the chunk\n",
    "    print(chunk.columns)  # Check the column names\n",
    "    print(chunk.info())   # Get a summary of the data types and null values\n",
    "\n",
    "    # Example: Convert data types to more memory-efficient types\n",
    "    chunk['class'] = chunk['class'].astype('category')\n",
    "\n",
    "    # Append the processed chunk to the list\n",
    "    processed_chunks.append(chunk)\n",
    "\n",
    "# Combine all processed chunks into a single DataFrame\n",
    "final_df = pd.concat(processed_chunks, ignore_index=True)\n",
    "\n",
    "# Save the final DataFrame to a new file\n",
    "final_df.to_csv('processed_reviews.csv', index=False)\n",
    "\n",
    "# Read the CSV file into a DataFrame\n",
    "final_df = pd.read_csv('processed_reviews.csv')"
   ]
  }
 ],
 "metadata": {
  "accelerator": "GPU",
  "colab": {
   "gpuType": "T4",
   "provenance": []
  },
  "kernelspec": {
   "display_name": "Python 3",
   "name": "python3"
  },
  "language_info": {
   "name": "python"
  }
 },
 "nbformat": 4,
 "nbformat_minor": 0
}
