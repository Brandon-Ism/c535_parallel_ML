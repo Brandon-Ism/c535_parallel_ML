{
 "cells": [
  {
   "cell_type": "code",
   "execution_count": 1,
   "metadata": {},
   "outputs": [
    {
     "name": "stdout",
     "output_type": "stream",
     "text": [
      "2.0.3\n"
     ]
    }
   ],
   "source": [
    "import pandas as pd\n",
    "print(pd.__version__)"
   ]
  },
  {
   "cell_type": "code",
   "execution_count": 2,
   "metadata": {},
   "outputs": [
    {
     "name": "stdout",
     "output_type": "stream",
     "text": [
      "                                    _id      reviewerID        asin  \\\n",
      "0  {'$oid': '5a13282b741a2384e879a620'}  A3C9CSW3TJITGT  0005069491   \n",
      "1  {'$oid': '5a13282b741a2384e879a621'}  A31POTIYCKSZ9G  0076561046   \n",
      "2  {'$oid': '5a13282b741a2384e879a622'}  A2GGHHME9B6W4O  0131358936   \n",
      "3  {'$oid': '5a13282b741a2384e879a61f'}   AMEVO2LY6VEJA  0000191639   \n",
      "4  {'$oid': '5a13282b741a2384e879a623'}  A1FSLDH43ORWZP  0133642984   \n",
      "\n",
      "    reviewerName helpful                                         reviewText  \\\n",
      "0          Renee  [0, 0]  I love these felt nursery rhyme characters and...   \n",
      "1  So CA Teacher  [0, 0]  I see no directions for its use. Therefore I h...   \n",
      "2     Dalilah G.  [0, 0]  This is a great tool for any teacher using the...   \n",
      "3  Nicole Soeder  [0, 0]  Great product, thank you! Our son loved the pu...   \n",
      "4  Dayna English  [0, 0]  Although not as streamlined as the Algebra I m...   \n",
      "\n",
      "   overall                                     summary  unixReviewTime  \\\n",
      "0        4  Charming characters but busy work required      1377561600   \n",
      "1        3                    No directions for use...      1404864000   \n",
      "2        5                                Great CD-ROM      1382400000   \n",
      "3        5                                     Puzzles      1388016000   \n",
      "4        5        Algebra II -- presentation materials      1374278400   \n",
      "\n",
      "    reviewTime        category  class  \n",
      "0  08 27, 2013  Toys_and_Games      1  \n",
      "1   07 9, 2014  Toys_and_Games      0  \n",
      "2  10 22, 2013  Toys_and_Games      1  \n",
      "3  12 26, 2013  Toys_and_Games      1  \n",
      "4  07 20, 2013  Toys_and_Games      1  \n",
      "Index(['_id', 'reviewerID', 'asin', 'reviewerName', 'helpful', 'reviewText',\n",
      "       'overall', 'summary', 'unixReviewTime', 'reviewTime', 'category',\n",
      "       'class'],\n",
      "      dtype='object')\n",
      "<class 'pandas.core.frame.DataFrame'>\n",
      "RangeIndex: 1997140 entries, 0 to 1997139\n",
      "Data columns (total 12 columns):\n",
      " #   Column          Dtype \n",
      "---  ------          ----- \n",
      " 0   _id             object\n",
      " 1   reviewerID      object\n",
      " 2   asin            object\n",
      " 3   reviewerName    object\n",
      " 4   helpful         object\n",
      " 5   reviewText      object\n",
      " 6   overall         int64 \n",
      " 7   summary         object\n",
      " 8   unixReviewTime  int64 \n",
      " 9   reviewTime      object\n",
      " 10  category        object\n",
      " 11  class           int64 \n",
      "dtypes: int64(3), object(9)\n",
      "memory usage: 182.8+ MB\n",
      "None\n"
     ]
    }
   ],
   "source": [
    "import os\n",
    "import pandas as pd\n",
    "\n",
    "# Verify the file path\n",
    "file_path = r\"path_to_json_file.json\"\n",
    "if not os.path.exists(file_path):\n",
    "    raise FileNotFoundError(f\"The file at {file_path} does not exist.\")\n",
    "\n",
    "# Load the dataset from the JSON Lines file\n",
    "try:\n",
    "    data = pd.read_json(file_path, lines=True)\n",
    "except ValueError as e:\n",
    "    raise ValueError(f\"Error reading JSON Lines file: {e}\")\n",
    "\n",
    "# Explore the data (look at the first few rows)\n",
    "print(data.head())   # Check the first few rows of the dataset\n",
    "print(data.columns)  # Check the column names\n",
    "print(data.info())   # Get a summary of the data types and null values"
   ]
  },
  {
   "cell_type": "code",
   "execution_count": 3,
   "metadata": {},
   "outputs": [],
   "source": [
    "# 2. Preprocess the data\n",
    "# clean data, remove missing values\n",
    "# preprocess text (tokenize, remove stopwords)\n",
    "\n",
    "# Drop rows with missing values\n",
    "data.dropna(inplace=True)\n",
    "\n",
    "# split the data into features and target\n",
    "X = data[\"reviewText\"]\n",
    "y = data['class']\n",
    "\n",
    "# prepare vectorizer\n",
    "from sklearn.feature_extraction.text import TfidfVectorizer\n",
    "vectorizer = TfidfVectorizer()\n",
    "\n",
    "# split the data into training and testing sets\n",
    "from sklearn.model_selection import train_test_split\n",
    "X_train, X_test, y_train, y_test = train_test_split(X, y, test_size=0.2, random_state=42)\n",
    "X_train_vectorized = vectorizer.fit_transform(X_train)\n",
    "X_test_vectorized = vectorizer.transform(X_test)\n",
    "\n"
   ]
  },
  {
   "cell_type": "code",
   "execution_count": null,
   "metadata": {},
   "outputs": [],
   "source": [
    "# 3. Train a classifier (SVM)\n",
    "from sklearn.svm import SVC\n",
    "model = SVC()   # Instantiate the model\n",
    "model.fit(X_train_vectorized, y_train)   # Train the model\n",
    "\n"
   ]
  },
  {
   "cell_type": "code",
   "execution_count": null,
   "metadata": {},
   "outputs": [],
   "source": [
    "# 4. Evaluate the model\n",
    "from sklearn.metrics import accuracy_score\n",
    "\n",
    "# Predict the labels of the test set\n",
    "y_pred = model.predict(X_test_vectorized)\n",
    "\n",
    "# Calculate the accuracy of the model\n",
    "accuracy = accuracy_score(y_test, y_pred)\n",
    "print(f\"Accuracy: {accuracy}\")\n"
   ]
  }
 ],
 "metadata": {
  "kernelspec": {
   "display_name": "Python 3",
   "language": "python",
   "name": "python3"
  },
  "language_info": {
   "codemirror_mode": {
    "name": "ipython",
    "version": 3
   },
   "file_extension": ".py",
   "mimetype": "text/x-python",
   "name": "python",
   "nbconvert_exporter": "python",
   "pygments_lexer": "ipython3",
   "version": "3.8.10"
  }
 },
 "nbformat": 4,
 "nbformat_minor": 2
}
